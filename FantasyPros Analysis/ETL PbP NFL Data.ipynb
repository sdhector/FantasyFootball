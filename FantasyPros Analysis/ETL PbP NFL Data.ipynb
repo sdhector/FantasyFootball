{
 "cells": [
  {
   "cell_type": "markdown",
   "metadata": {},
   "source": [
    "In this first workflow, we take NFL Play by PLay data already downloaded from NFLScrapR. In a later version, I will download it directly using their package for a complete extract process. \n",
    "\n",
    "The first task to do, is to tidy the data because it is not very well formatted. Then, we will create a PostgreSQL database and load the different tables there. If possible and free, I will upload this data to an online Managaged Database on the cloud. "
   ]
  },
  {
   "cell_type": "code",
   "execution_count": 1,
   "metadata": {},
   "outputs": [
    {
     "name": "stderr",
     "output_type": "stream",
     "text": [
      "D:\\Anaconda\\lib\\site-packages\\IPython\\core\\interactiveshell.py:3020: DtypeWarning: Columns (42,166,167,168,169,174,175,178,179,182,183,188,189,190,191,194,195,203,204,205,218,219,220,231,232,233,238,240,241,249) have mixed types. Specify dtype option on import or set low_memory=False.\n",
      "  interactivity=interactivity, compiler=compiler, result=result)\n"
     ]
    }
   ],
   "source": [
    "# Read the data \n",
    "import pandas as pd\n",
    "data = pd.read_csv(r\"D:\\Data Science Folder\\Data\\NFL_pbpdata_2009_2018.csv\")"
   ]
  },
  {
   "cell_type": "markdown",
   "metadata": {},
   "source": [
    "The data is loaded. Let's do some quick preprocessing to understand what's in there. In the end, we will not care about play by play data, but will use it to compute metrics that can only be compute with it. After aggregating, that's the data we will have. "
   ]
  }
 ],
 "metadata": {
  "kernelspec": {
   "display_name": "Python 3",
   "language": "python",
   "name": "python3"
  },
  "language_info": {
   "codemirror_mode": {
    "name": "ipython",
    "version": 3
   },
   "file_extension": ".py",
   "mimetype": "text/x-python",
   "name": "python",
   "nbconvert_exporter": "python",
   "pygments_lexer": "ipython3",
   "version": "3.7.6"
  }
 },
 "nbformat": 4,
 "nbformat_minor": 4
}
