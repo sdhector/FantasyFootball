{
 "cells": [
  {
   "cell_type": "markdown",
   "metadata": {},
   "source": [
    "This notebook is an End to End project where I Extract the data, tidy and transform it to a tabular format, create a database and load the data into tables, then I read from it using SQL to do some Exploratory Data Analysis and publish that to Github as a Notebook. Then, I create a Dashboard that allows one to view the available data. Next, I develop a Lifetime Value model and load the predictions into the database and publish the notebook. I also create a Best Comparable Model and publish the notebook. Finally put it all together in an interactive application which allows the user to select the player and get a profile, the predictions of the Lifetime Value model, and the Best Comparable tool. "
   ]
  }
 ],
 "metadata": {
  "kernelspec": {
   "display_name": "Python 3",
   "language": "python",
   "name": "python3"
  },
  "language_info": {
   "codemirror_mode": {
    "name": "ipython",
    "version": 3
   },
   "file_extension": ".py",
   "mimetype": "text/x-python",
   "name": "python",
   "nbconvert_exporter": "python",
   "pygments_lexer": "ipython3",
   "version": "3.7.1"
  }
 },
 "nbformat": 4,
 "nbformat_minor": 2
}
